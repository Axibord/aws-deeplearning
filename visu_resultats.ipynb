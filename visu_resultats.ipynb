{
 "cells": [
  {
   "cell_type": "code",
   "execution_count": 48,
   "metadata": {},
   "outputs": [],
   "source": [
    "import pandas as pd\n",
    "import numpy as np\n",
    "%matplotlib inline\n",
    "pd.options.display.max_rows = 100\n",
    "# plt.rcParams['figure.figsize'] = (16,12)\n",
    "\n",
    "from IPython.core.interactiveshell import InteractiveShell\n",
    "InteractiveShell.ast_node_interactivity = \"all\""
   ]
  },
  {
   "cell_type": "code",
   "execution_count": 24,
   "metadata": {},
   "outputs": [],
   "source": [
    "data = pd.read_csv('results.csv')\n",
    "data = data.drop(['Unnamed: 0'], axis=1)"
   ]
  },
  {
   "cell_type": "code",
   "execution_count": 51,
   "metadata": {},
   "outputs": [
    {
     "data": {
      "text/html": [
       "<div>\n",
       "<style scoped>\n",
       "    .dataframe tbody tr th:only-of-type {\n",
       "        vertical-align: middle;\n",
       "    }\n",
       "\n",
       "    .dataframe tbody tr th {\n",
       "        vertical-align: top;\n",
       "    }\n",
       "\n",
       "    .dataframe thead th {\n",
       "        text-align: right;\n",
       "    }\n",
       "</style>\n",
       "<table border=\"1\" class=\"dataframe\">\n",
       "  <thead>\n",
       "    <tr style=\"text-align: right;\">\n",
       "      <th></th>\n",
       "      <th>image_path</th>\n",
       "      <th>label</th>\n",
       "      <th>image</th>\n",
       "      <th>descriptors</th>\n",
       "    </tr>\n",
       "  </thead>\n",
       "  <tbody>\n",
       "    <tr>\n",
       "      <th>30</th>\n",
       "      <td>Test/Nectarine/r_69_100.jpg</td>\n",
       "      <td>Nectarine</td>\n",
       "      <td>[255, 255, 255, 255, 255, 255, 255, 255, 255, ...</td>\n",
       "      <td>[229, 109, 252, 101, 180, 47, 71, 191, 112, 17...</td>\n",
       "    </tr>\n",
       "    <tr>\n",
       "      <th>71</th>\n",
       "      <td>Test/Nectarine/9_100.jpg</td>\n",
       "      <td>Nectarine</td>\n",
       "      <td>[255, 250, 249, 255, 251, 249, 255, 253, 252, ...</td>\n",
       "      <td>[244, 100, 157, 102, 136, 111, 68, 136, 226, 1...</td>\n",
       "    </tr>\n",
       "    <tr>\n",
       "      <th>57</th>\n",
       "      <td>Test/Nectarine/71_100.jpg</td>\n",
       "      <td>Nectarine</td>\n",
       "      <td>[253, 250, 255, 255, 252, 255, 255, 254, 255, ...</td>\n",
       "      <td>[47, 190, 249, 243, 252, 127, 255, 218, 59, 25...</td>\n",
       "    </tr>\n",
       "  </tbody>\n",
       "</table>\n",
       "</div>"
      ],
      "text/plain": [
       "                     image_path      label  \\\n",
       "30  Test/Nectarine/r_69_100.jpg  Nectarine   \n",
       "71     Test/Nectarine/9_100.jpg  Nectarine   \n",
       "57    Test/Nectarine/71_100.jpg  Nectarine   \n",
       "\n",
       "                                                image  \\\n",
       "30  [255, 255, 255, 255, 255, 255, 255, 255, 255, ...   \n",
       "71  [255, 250, 249, 255, 251, 249, 255, 253, 252, ...   \n",
       "57  [253, 250, 255, 255, 252, 255, 255, 254, 255, ...   \n",
       "\n",
       "                                          descriptors  \n",
       "30  [229, 109, 252, 101, 180, 47, 71, 191, 112, 17...  \n",
       "71  [244, 100, 157, 102, 136, 111, 68, 136, 226, 1...  \n",
       "57  [47, 190, 249, 243, 252, 127, 255, 218, 59, 25...  "
      ]
     },
     "execution_count": 51,
     "metadata": {},
     "output_type": "execute_result"
    },
    {
     "name": "stdout",
     "output_type": "stream",
     "text": [
      "Average number of pixels length for Original images is 130192.1\n",
      "Average number of pixels length for descriptors images is 2434.58\n"
     ]
    }
   ],
   "source": [
    "data.sample(3)\n",
    "print(f\"Average number of pixels length for Original images is {np.mean(data.image.apply(lambda x:len(x)))}\")\n",
    "print(f\"Average number of pixels length for descriptors images is {np.mean(data.descriptors.apply(lambda x:len(x)))}\")"
   ]
  }
 ],
 "metadata": {
  "kernelspec": {
   "display_name": "axibord-gpu",
   "language": "python",
   "name": "axibord-gpu"
  },
  "language_info": {
   "codemirror_mode": {
    "name": "ipython",
    "version": 3
   },
   "file_extension": ".py",
   "mimetype": "text/x-python",
   "name": "python",
   "nbconvert_exporter": "python",
   "pygments_lexer": "ipython3",
   "version": "3.6.10"
  }
 },
 "nbformat": 4,
 "nbformat_minor": 4
}
